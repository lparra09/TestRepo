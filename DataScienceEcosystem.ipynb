{
 "cells": [
  {
   "cell_type": "markdown",
   "id": "1a32c7d2-bd96-4c20-a4bb-13f73f988055",
   "metadata": {},
   "source": [
    "# Data Science Tools and Ecosystem"
   ]
  },
  {
   "cell_type": "markdown",
   "id": "33a32cca-ab65-4fb5-b889-49fa26545bc2",
   "metadata": {},
   "source": [
    "In this notebook, Data Science Tools and Ecosystems are summarized."
   ]
  },
  {
   "cell_type": "markdown",
   "id": "0326f1b0-b986-4e76-a1df-e7889aef18c5",
   "metadata": {},
   "source": [
    "Some of the popular languages that Data Scientist used are:\n",
    "1. Python\n",
    "2. R\n",
    "3. SQL\n",
    "\n"
   ]
  },
  {
   "cell_type": "markdown",
   "id": "34b7223d-450d-4a6b-801d-15b85bf0d4fc",
   "metadata": {},
   "source": [
    "Some of the commonly used used libraries used by Data Scientists include:\n",
    "1. Pandas\n",
    "2. Numpy\n",
    "3. Seaborn"
   ]
  },
  {
   "cell_type": "markdown",
   "id": "7133be84-3857-4ed2-b029-c08558475d1c",
   "metadata": {},
   "source": [
    "|Data Science Tools|\n",
    "|------------------|\n",
    "|Ananconda         |\n",
    "|Jupyter Lab       |\n",
    "|Googlecolab       |"
   ]
  },
  {
   "cell_type": "markdown",
   "id": "3ac49687-e37e-4751-b4ad-2b38644da026",
   "metadata": {},
   "source": [
    "### Below are a few examples of evaluating arithmetic expressions in Python."
   ]
  },
  {
   "cell_type": "code",
   "execution_count": 1,
   "id": "9fa3aac9-724d-4ed1-8e28-4585aa97601e",
   "metadata": {},
   "outputs": [
    {
     "data": {
      "text/plain": [
       "17"
      ]
     },
     "execution_count": 1,
     "metadata": {},
     "output_type": "execute_result"
    }
   ],
   "source": [
    "(3*4)+5"
   ]
  },
  {
   "cell_type": "code",
   "execution_count": 2,
   "id": "050f26e9-b993-4d8b-a1af-70c6d304d012",
   "metadata": {},
   "outputs": [
    {
     "data": {
      "text/plain": [
       "3.3333333333333335"
      ]
     },
     "execution_count": 2,
     "metadata": {},
     "output_type": "execute_result"
    }
   ],
   "source": [
    "200/60"
   ]
  },
  {
   "cell_type": "markdown",
   "id": "19080284-bb6c-4c25-bfd8-0653a2361c0f",
   "metadata": {},
   "source": [
    "__objectives__\n",
    "+ RStudio\n",
    "+ Jupyter Notebooks\n",
    "+ GGplot\n",
    "+ Python"
   ]
  },
  {
   "cell_type": "markdown",
   "id": "a0096cc8-1afb-47bf-a976-cf153954ecb2",
   "metadata": {},
   "source": [
    "## Logan Parra"
   ]
  },
  {
   "cell_type": "code",
   "execution_count": null,
   "id": "e473e05f-4962-4f16-82c9-888d6b6e944b",
   "metadata": {},
   "outputs": [],
   "source": []
  }
 ],
 "metadata": {
  "kernelspec": {
   "display_name": "Python 3 (ipykernel)",
   "language": "python",
   "name": "python3"
  },
  "language_info": {
   "codemirror_mode": {
    "name": "ipython",
    "version": 3
   },
   "file_extension": ".py",
   "mimetype": "text/x-python",
   "name": "python",
   "nbconvert_exporter": "python",
   "pygments_lexer": "ipython3",
   "version": "3.12.8"
  }
 },
 "nbformat": 4,
 "nbformat_minor": 5
}
